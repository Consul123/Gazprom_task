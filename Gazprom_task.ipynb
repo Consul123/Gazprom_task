{
 "cells": [
  {
   "cell_type": "code",
   "execution_count": 252,
   "id": "66debe48",
   "metadata": {},
   "outputs": [],
   "source": [
    "import pandas as pd\n",
    "import numpy as np\n",
    "import matplotlib.pyplot as plt\n",
    "import random\n",
    "import seaborn as sns\n",
    "from sklearn.model_selection import train_test_split\n",
    "\n",
    "random.seed(42)\n",
    "np.random.seed(42)"
   ]
  },
  {
   "cell_type": "code",
   "execution_count": 253,
   "id": "b748c915",
   "metadata": {},
   "outputs": [],
   "source": [
    "data = pd.read_csv('realty_data.csv')"
   ]
  },
  {
   "cell_type": "code",
   "execution_count": 254,
   "id": "4f032be4",
   "metadata": {},
   "outputs": [
    {
     "data": {
      "text/html": [
       "<div>\n",
       "<style scoped>\n",
       "    .dataframe tbody tr th:only-of-type {\n",
       "        vertical-align: middle;\n",
       "    }\n",
       "\n",
       "    .dataframe tbody tr th {\n",
       "        vertical-align: top;\n",
       "    }\n",
       "\n",
       "    .dataframe thead th {\n",
       "        text-align: right;\n",
       "    }\n",
       "</style>\n",
       "<table border=\"1\" class=\"dataframe\">\n",
       "  <thead>\n",
       "    <tr style=\"text-align: right;\">\n",
       "      <th></th>\n",
       "      <th>product_name</th>\n",
       "      <th>period</th>\n",
       "      <th>price</th>\n",
       "      <th>postcode</th>\n",
       "      <th>address_name</th>\n",
       "      <th>lat</th>\n",
       "      <th>lon</th>\n",
       "      <th>object_type</th>\n",
       "      <th>total_square</th>\n",
       "      <th>rooms</th>\n",
       "      <th>floor</th>\n",
       "      <th>city</th>\n",
       "      <th>settlement</th>\n",
       "      <th>district</th>\n",
       "      <th>area</th>\n",
       "      <th>description</th>\n",
       "      <th>source</th>\n",
       "    </tr>\n",
       "  </thead>\n",
       "  <tbody>\n",
       "    <tr>\n",
       "      <th>0</th>\n",
       "      <td>3-комнатная, 137 м²</td>\n",
       "      <td>NaN</td>\n",
       "      <td>63000000</td>\n",
       "      <td>127473.0</td>\n",
       "      <td>2-й Щемиловский переулок, 5а</td>\n",
       "      <td>55.778894</td>\n",
       "      <td>37.608844</td>\n",
       "      <td>Квартира</td>\n",
       "      <td>137.0</td>\n",
       "      <td>3.0</td>\n",
       "      <td>6.0</td>\n",
       "      <td>Москва</td>\n",
       "      <td>NaN</td>\n",
       "      <td>Тверской район</td>\n",
       "      <td>NaN</td>\n",
       "      <td>Просторная квартира свободной планировки с пан...</td>\n",
       "      <td>ЦИАН</td>\n",
       "    </tr>\n",
       "    <tr>\n",
       "      <th>1</th>\n",
       "      <td>Студия, 16,7 м²</td>\n",
       "      <td>NaN</td>\n",
       "      <td>3250000</td>\n",
       "      <td>108815.0</td>\n",
       "      <td>Харлампиева, 46</td>\n",
       "      <td>55.551025</td>\n",
       "      <td>37.313054</td>\n",
       "      <td>Квартира</td>\n",
       "      <td>16.7</td>\n",
       "      <td>NaN</td>\n",
       "      <td>1.0</td>\n",
       "      <td>Москва</td>\n",
       "      <td>NaN</td>\n",
       "      <td>Филимонковское поселение</td>\n",
       "      <td>NaN</td>\n",
       "      <td>ВНИМАНИЕ! ОЧЕНЬ ПРИВЛЕКАТЕЛЬНОЕ ПРЕ...</td>\n",
       "      <td>Домклик</td>\n",
       "    </tr>\n",
       "    <tr>\n",
       "      <th>2</th>\n",
       "      <td>3-комнатная, 76 м²</td>\n",
       "      <td>NaN</td>\n",
       "      <td>16004680</td>\n",
       "      <td>NaN</td>\n",
       "      <td>ЖК Прокшино, 8 к4</td>\n",
       "      <td>55.594802</td>\n",
       "      <td>37.431264</td>\n",
       "      <td>Квартира</td>\n",
       "      <td>76.0</td>\n",
       "      <td>3.0</td>\n",
       "      <td>6.0</td>\n",
       "      <td>Москва</td>\n",
       "      <td>NaN</td>\n",
       "      <td>Сосенское поселение</td>\n",
       "      <td>NaN</td>\n",
       "      <td>Apт.1684018. 0,01% - гибкая ипотека! Воспользу...</td>\n",
       "      <td>Яндекс.Недвижимость</td>\n",
       "    </tr>\n",
       "    <tr>\n",
       "      <th>3</th>\n",
       "      <td>1-комнатная, 24 м²</td>\n",
       "      <td>NaN</td>\n",
       "      <td>7841776</td>\n",
       "      <td>NaN</td>\n",
       "      <td>ЖК Прокшино, 6 к2</td>\n",
       "      <td>55.594332</td>\n",
       "      <td>37.428099</td>\n",
       "      <td>Квартира</td>\n",
       "      <td>24.0</td>\n",
       "      <td>1.0</td>\n",
       "      <td>10.0</td>\n",
       "      <td>Москва</td>\n",
       "      <td>NaN</td>\n",
       "      <td>Сосенское поселение</td>\n",
       "      <td>NaN</td>\n",
       "      <td>Продается однокомнатная квартира № 381 в новос...</td>\n",
       "      <td>Новострой-М</td>\n",
       "    </tr>\n",
       "    <tr>\n",
       "      <th>4</th>\n",
       "      <td>3-комнатная, 126 м²</td>\n",
       "      <td>NaN</td>\n",
       "      <td>120000000</td>\n",
       "      <td>121352.0</td>\n",
       "      <td>Давыдковская, 18</td>\n",
       "      <td>55.721097</td>\n",
       "      <td>37.464342</td>\n",
       "      <td>Квартира</td>\n",
       "      <td>126.0</td>\n",
       "      <td>3.0</td>\n",
       "      <td>16.0</td>\n",
       "      <td>Москва</td>\n",
       "      <td>NaN</td>\n",
       "      <td>Фили-Давыдково район</td>\n",
       "      <td>NaN</td>\n",
       "      <td>Шикарное предложение!\\nПродаётся трёхкомнатная...</td>\n",
       "      <td>Домклик</td>\n",
       "    </tr>\n",
       "  </tbody>\n",
       "</table>\n",
       "</div>"
      ],
      "text/plain": [
       "          product_name  period      price  postcode  \\\n",
       "0  3-комнатная, 137 м²     NaN   63000000  127473.0   \n",
       "1      Студия, 16,7 м²     NaN    3250000  108815.0   \n",
       "2   3-комнатная, 76 м²     NaN   16004680       NaN   \n",
       "3   1-комнатная, 24 м²     NaN    7841776       NaN   \n",
       "4  3-комнатная, 126 м²     NaN  120000000  121352.0   \n",
       "\n",
       "                   address_name        lat        lon object_type  \\\n",
       "0  2-й Щемиловский переулок, 5а  55.778894  37.608844    Квартира   \n",
       "1               Харлампиева, 46  55.551025  37.313054    Квартира   \n",
       "2             ЖК Прокшино, 8 к4  55.594802  37.431264    Квартира   \n",
       "3             ЖК Прокшино, 6 к2  55.594332  37.428099    Квартира   \n",
       "4              Давыдковская, 18  55.721097  37.464342    Квартира   \n",
       "\n",
       "   total_square  rooms  floor    city settlement                  district  \\\n",
       "0         137.0    3.0    6.0  Москва        NaN            Тверской район   \n",
       "1          16.7    NaN    1.0  Москва        NaN  Филимонковское поселение   \n",
       "2          76.0    3.0    6.0  Москва        NaN       Сосенское поселение   \n",
       "3          24.0    1.0   10.0  Москва        NaN       Сосенское поселение   \n",
       "4         126.0    3.0   16.0  Москва        NaN      Фили-Давыдково район   \n",
       "\n",
       "  area                                        description               source  \n",
       "0  NaN  Просторная квартира свободной планировки с пан...                 ЦИАН  \n",
       "1  NaN             ВНИМАНИЕ! ОЧЕНЬ ПРИВЛЕКАТЕЛЬНОЕ ПРЕ...              Домклик  \n",
       "2  NaN  Apт.1684018. 0,01% - гибкая ипотека! Воспользу...  Яндекс.Недвижимость  \n",
       "3  NaN  Продается однокомнатная квартира № 381 в новос...          Новострой-М  \n",
       "4  NaN  Шикарное предложение!\\nПродаётся трёхкомнатная...              Домклик  "
      ]
     },
     "execution_count": 254,
     "metadata": {},
     "output_type": "execute_result"
    }
   ],
   "source": [
    "data.head(5)"
   ]
  },
  {
   "cell_type": "code",
   "execution_count": 255,
   "id": "b4153bf5",
   "metadata": {},
   "outputs": [
    {
     "name": "stdout",
     "output_type": "stream",
     "text": [
      "Числовые признаки\n",
      "       period         price       postcode           lat           lon  \\\n",
      "count     0.0  9.882200e+04   93675.000000  98822.000000  98822.000000   \n",
      "mean      NaN  2.512122e+07  124503.585119     55.742691     37.586404   \n",
      "std       NaN  3.607234e+07   11956.742109      0.107044      0.169843   \n",
      "min       NaN  1.900000e+06  101000.000000     55.468426     37.136489   \n",
      "25%       NaN  1.050000e+07  115516.000000     55.673101     37.471611   \n",
      "50%       NaN  1.516713e+07  123154.000000     55.745474     37.569365   \n",
      "75%       NaN  2.500000e+07  140003.000000     55.817697     37.689568   \n",
      "max       NaN  1.155219e+09  143989.000000     56.028824     38.122467   \n",
      "\n",
      "       total_square         rooms         floor  \n",
      "count  98822.000000  94840.000000  98822.000000  \n",
      "mean      66.092176      2.197427      9.905274  \n",
      "std       48.816204      1.038628      8.219180  \n",
      "min        8.000000      1.000000      1.000000  \n",
      "25%       40.100000      1.000000      4.000000  \n",
      "50%       56.400000      2.000000      8.000000  \n",
      "75%       75.700000      3.000000     14.000000  \n",
      "max     2070.000000     15.000000     66.000000  \n",
      "\n",
      "\n",
      "Категориальные признаки\n",
      "              product_name                  address_name object_type    city  \\\n",
      "count                98822                         98821       98822   91928   \n",
      "unique                5827                         22083           1      21   \n",
      "top     1-комнатная, 38 м²  улица Академика Королёва, 21    Квартира  Москва   \n",
      "freq                   954                          1203       98822   73180   \n",
      "\n",
      "             settlement             district         area  \\\n",
      "count              6894                75111        19498   \n",
      "unique               46                  130          269   \n",
      "top     пос. Коммунарка  Сосенское поселение  Самолёт м-н   \n",
      "freq                627                 4780          649   \n",
      "\n",
      "                                              description source  \n",
      "count                                               98573  98822  \n",
      "unique                                              94910      4  \n",
      "top     Дом «Достижение» располагается в Москве в окру...   ЦИАН  \n",
      "freq                                                  408  42171  \n"
     ]
    }
   ],
   "source": [
    "print('Числовые признаки')\n",
    "print(data.describe())\n",
    "print()\n",
    "print()\n",
    "print('Категориальные признаки')\n",
    "print(data.describe(exclude=[np.number]))"
   ]
  },
  {
   "cell_type": "markdown",
   "id": "d64a81d7",
   "metadata": {},
   "source": [
    "Из описания столбцов видно, что признак Period не заполнен, а признак Object_type имеет лишь одно значение. Исключим их из датасета, чтобы не загромождать модель лишними фичами."
   ]
  },
  {
   "cell_type": "code",
   "execution_count": 256,
   "id": "76f7f22a",
   "metadata": {},
   "outputs": [],
   "source": [
    "data.drop(['period', 'object_type'], axis = 1, inplace = True)"
   ]
  },
  {
   "cell_type": "code",
   "execution_count": 257,
   "id": "220e3e60",
   "metadata": {},
   "outputs": [
    {
     "data": {
      "text/plain": [
       "product_name    False\n",
       "price           False\n",
       "postcode         True\n",
       "address_name     True\n",
       "lat             False\n",
       "lon             False\n",
       "total_square    False\n",
       "rooms            True\n",
       "floor           False\n",
       "city             True\n",
       "settlement       True\n",
       "district         True\n",
       "area             True\n",
       "description      True\n",
       "source          False\n",
       "dtype: bool"
      ]
     },
     "execution_count": 257,
     "metadata": {},
     "output_type": "execute_result"
    }
   ],
   "source": [
    "data.isna().any()"
   ]
  },
  {
   "cell_type": "markdown",
   "id": "20621a8f",
   "metadata": {},
   "source": [
    "Теперь избавимся от полных дубликатов."
   ]
  },
  {
   "cell_type": "code",
   "execution_count": 258,
   "id": "cfde912f",
   "metadata": {},
   "outputs": [
    {
     "name": "stdout",
     "output_type": "stream",
     "text": [
      "Число дубликатов в датасете равно  474\n"
     ]
    }
   ],
   "source": [
    "data_check = data.drop(['price'], axis = 1)\n",
    "print('Число дубликатов в датасете равно ',len(data_check)-len(data_check.drop_duplicates()))"
   ]
  },
  {
   "cell_type": "code",
   "execution_count": 260,
   "id": "54a3836e",
   "metadata": {},
   "outputs": [
    {
     "data": {
      "text/html": [
       "<div>\n",
       "<style scoped>\n",
       "    .dataframe tbody tr th:only-of-type {\n",
       "        vertical-align: middle;\n",
       "    }\n",
       "\n",
       "    .dataframe tbody tr th {\n",
       "        vertical-align: top;\n",
       "    }\n",
       "\n",
       "    .dataframe thead th {\n",
       "        text-align: right;\n",
       "    }\n",
       "</style>\n",
       "<table border=\"1\" class=\"dataframe\">\n",
       "  <thead>\n",
       "    <tr style=\"text-align: right;\">\n",
       "      <th></th>\n",
       "      <th>product_name</th>\n",
       "      <th>postcode</th>\n",
       "      <th>address_name</th>\n",
       "      <th>lat</th>\n",
       "      <th>lon</th>\n",
       "      <th>total_square</th>\n",
       "      <th>rooms</th>\n",
       "      <th>floor</th>\n",
       "      <th>city</th>\n",
       "      <th>settlement</th>\n",
       "      <th>district</th>\n",
       "      <th>area</th>\n",
       "      <th>description</th>\n",
       "      <th>source</th>\n",
       "    </tr>\n",
       "  </thead>\n",
       "  <tbody>\n",
       "    <tr>\n",
       "      <th>3922</th>\n",
       "      <td>1-комнатная, 33 м²</td>\n",
       "      <td>109052.0</td>\n",
       "      <td>Рязанский проспект, 2/1 к2г</td>\n",
       "      <td>55.728532</td>\n",
       "      <td>37.737600</td>\n",
       "      <td>33.00</td>\n",
       "      <td>1.0</td>\n",
       "      <td>24.0</td>\n",
       "      <td>Москва</td>\n",
       "      <td>NaN</td>\n",
       "      <td>Нижегородский район</td>\n",
       "      <td>NaN</td>\n",
       "      <td>ЖК «Аквилон BESIDE» — масштабный проект от «ра...</td>\n",
       "      <td>Яндекс.Недвижимость</td>\n",
       "    </tr>\n",
       "    <tr>\n",
       "      <th>3981</th>\n",
       "      <td>3-комнатная, 109,9 м²</td>\n",
       "      <td>123290.0</td>\n",
       "      <td>Шмитовский проезд, 39 к1</td>\n",
       "      <td>55.754026</td>\n",
       "      <td>37.523352</td>\n",
       "      <td>109.90</td>\n",
       "      <td>3.0</td>\n",
       "      <td>2.0</td>\n",
       "      <td>Москва</td>\n",
       "      <td>NaN</td>\n",
       "      <td>Пресненский район</td>\n",
       "      <td>NaN</td>\n",
       "      <td>КВАРТИРА В ХОРОШЕВО-МНЕВНИКАХ! ДОМ СДАН!\\n\\nТр...</td>\n",
       "      <td>Домклик</td>\n",
       "    </tr>\n",
       "    <tr>\n",
       "      <th>6865</th>\n",
       "      <td>2-комнатная, 57,9 м²</td>\n",
       "      <td>109316.0</td>\n",
       "      <td>Волгоградский проспект, вл32/5 к3</td>\n",
       "      <td>55.719525</td>\n",
       "      <td>37.690231</td>\n",
       "      <td>57.90</td>\n",
       "      <td>2.0</td>\n",
       "      <td>5.0</td>\n",
       "      <td>Москва</td>\n",
       "      <td>NaN</td>\n",
       "      <td>Южнопортовый район</td>\n",
       "      <td>NaN</td>\n",
       "      <td>Продаётся 2-комнатная квартира в строящемся до...</td>\n",
       "      <td>ЦИАН</td>\n",
       "    </tr>\n",
       "    <tr>\n",
       "      <th>6959</th>\n",
       "      <td>Студия, 20 м²</td>\n",
       "      <td>109052.0</td>\n",
       "      <td>Рязанский проспект, 2/1 к2г</td>\n",
       "      <td>55.728532</td>\n",
       "      <td>37.737600</td>\n",
       "      <td>20.00</td>\n",
       "      <td>1.0</td>\n",
       "      <td>24.0</td>\n",
       "      <td>Москва</td>\n",
       "      <td>NaN</td>\n",
       "      <td>Нижегородский район</td>\n",
       "      <td>NaN</td>\n",
       "      <td>ЖК «Аквилон BESIDE» — масштабный проект от «ра...</td>\n",
       "      <td>Яндекс.Недвижимость</td>\n",
       "    </tr>\n",
       "    <tr>\n",
       "      <th>7591</th>\n",
       "      <td>Студия, 20 м²</td>\n",
       "      <td>109052.0</td>\n",
       "      <td>Рязанский проспект, 2/1 к2г</td>\n",
       "      <td>55.728532</td>\n",
       "      <td>37.737600</td>\n",
       "      <td>20.00</td>\n",
       "      <td>1.0</td>\n",
       "      <td>23.0</td>\n",
       "      <td>Москва</td>\n",
       "      <td>NaN</td>\n",
       "      <td>Нижегородский район</td>\n",
       "      <td>NaN</td>\n",
       "      <td>ЖК «Аквилон BESIDE» — масштабный проект от «ра...</td>\n",
       "      <td>Яндекс.Недвижимость</td>\n",
       "    </tr>\n",
       "    <tr>\n",
       "      <th>...</th>\n",
       "      <td>...</td>\n",
       "      <td>...</td>\n",
       "      <td>...</td>\n",
       "      <td>...</td>\n",
       "      <td>...</td>\n",
       "      <td>...</td>\n",
       "      <td>...</td>\n",
       "      <td>...</td>\n",
       "      <td>...</td>\n",
       "      <td>...</td>\n",
       "      <td>...</td>\n",
       "      <td>...</td>\n",
       "      <td>...</td>\n",
       "      <td>...</td>\n",
       "    </tr>\n",
       "    <tr>\n",
       "      <th>98182</th>\n",
       "      <td>3-комнатная, 108,3 м²</td>\n",
       "      <td>129594.0</td>\n",
       "      <td>Марьиной Рощи 4-я, вл12/2</td>\n",
       "      <td>55.797873</td>\n",
       "      <td>37.625361</td>\n",
       "      <td>108.28</td>\n",
       "      <td>3.0</td>\n",
       "      <td>46.0</td>\n",
       "      <td>Москва</td>\n",
       "      <td>NaN</td>\n",
       "      <td>Марьина Роща район</td>\n",
       "      <td>NaN</td>\n",
       "      <td>Прямая продажа жилого комплекса премиум-класса...</td>\n",
       "      <td>ЦИАН</td>\n",
       "    </tr>\n",
       "    <tr>\n",
       "      <th>98237</th>\n",
       "      <td>2-комнатная, 57 м²</td>\n",
       "      <td>127273.0</td>\n",
       "      <td>Отрадная, 4а</td>\n",
       "      <td>55.857965</td>\n",
       "      <td>37.605841</td>\n",
       "      <td>57.00</td>\n",
       "      <td>2.0</td>\n",
       "      <td>18.0</td>\n",
       "      <td>Москва</td>\n",
       "      <td>NaN</td>\n",
       "      <td>Отрадное район</td>\n",
       "      <td>NaN</td>\n",
       "      <td>Прямая продажа от застройщика.Продаётся 2-к кв...</td>\n",
       "      <td>Яндекс.Недвижимость</td>\n",
       "    </tr>\n",
       "    <tr>\n",
       "      <th>98390</th>\n",
       "      <td>3-комнатная, 71 м²</td>\n",
       "      <td>121609.0</td>\n",
       "      <td>Осенний бульвар, 2</td>\n",
       "      <td>55.752349</td>\n",
       "      <td>37.410339</td>\n",
       "      <td>71.00</td>\n",
       "      <td>3.0</td>\n",
       "      <td>10.0</td>\n",
       "      <td>Москва</td>\n",
       "      <td>NaN</td>\n",
       "      <td>Крылатское район</td>\n",
       "      <td>NaN</td>\n",
       "      <td>Внимание! Свободная продажа, выписка до сделки...</td>\n",
       "      <td>ЦИАН</td>\n",
       "    </tr>\n",
       "    <tr>\n",
       "      <th>98468</th>\n",
       "      <td>2-комнатная, 68,5 м²</td>\n",
       "      <td>108818.0</td>\n",
       "      <td>микрорайон Новые Ватутинки Центральные, к9/1/1.2</td>\n",
       "      <td>55.517482</td>\n",
       "      <td>37.340124</td>\n",
       "      <td>68.50</td>\n",
       "      <td>2.0</td>\n",
       "      <td>9.0</td>\n",
       "      <td>Москва</td>\n",
       "      <td>NaN</td>\n",
       "      <td>Десёновское поселение</td>\n",
       "      <td>Новые Ватутинки Центральный микрорайон жилой к...</td>\n",
       "      <td>Продаётся 2-комнатная квартира в строящемся до...</td>\n",
       "      <td>ЦИАН</td>\n",
       "    </tr>\n",
       "    <tr>\n",
       "      <th>98531</th>\n",
       "      <td>3-комнатная, 81 м²</td>\n",
       "      <td>108811.0</td>\n",
       "      <td>бульвар Андрея Тарковского, к15</td>\n",
       "      <td>55.625693</td>\n",
       "      <td>37.341506</td>\n",
       "      <td>81.00</td>\n",
       "      <td>3.0</td>\n",
       "      <td>10.0</td>\n",
       "      <td>Москва</td>\n",
       "      <td>NaN</td>\n",
       "      <td>Внуковское поселение</td>\n",
       "      <td>NaN</td>\n",
       "      <td>Квартира расположена в Новой Москве, ЖК «Расск...</td>\n",
       "      <td>Яндекс.Недвижимость</td>\n",
       "    </tr>\n",
       "  </tbody>\n",
       "</table>\n",
       "<p>474 rows × 14 columns</p>\n",
       "</div>"
      ],
      "text/plain": [
       "                product_name  postcode  \\\n",
       "3922      1-комнатная, 33 м²  109052.0   \n",
       "3981   3-комнатная, 109,9 м²  123290.0   \n",
       "6865    2-комнатная, 57,9 м²  109316.0   \n",
       "6959           Студия, 20 м²  109052.0   \n",
       "7591           Студия, 20 м²  109052.0   \n",
       "...                      ...       ...   \n",
       "98182  3-комнатная, 108,3 м²  129594.0   \n",
       "98237     2-комнатная, 57 м²  127273.0   \n",
       "98390     3-комнатная, 71 м²  121609.0   \n",
       "98468   2-комнатная, 68,5 м²  108818.0   \n",
       "98531     3-комнатная, 81 м²  108811.0   \n",
       "\n",
       "                                           address_name        lat        lon  \\\n",
       "3922                        Рязанский проспект, 2/1 к2г  55.728532  37.737600   \n",
       "3981                           Шмитовский проезд, 39 к1  55.754026  37.523352   \n",
       "6865                  Волгоградский проспект, вл32/5 к3  55.719525  37.690231   \n",
       "6959                        Рязанский проспект, 2/1 к2г  55.728532  37.737600   \n",
       "7591                        Рязанский проспект, 2/1 к2г  55.728532  37.737600   \n",
       "...                                                 ...        ...        ...   \n",
       "98182                         Марьиной Рощи 4-я, вл12/2  55.797873  37.625361   \n",
       "98237                                      Отрадная, 4а  55.857965  37.605841   \n",
       "98390                                Осенний бульвар, 2  55.752349  37.410339   \n",
       "98468  микрорайон Новые Ватутинки Центральные, к9/1/1.2  55.517482  37.340124   \n",
       "98531                   бульвар Андрея Тарковского, к15  55.625693  37.341506   \n",
       "\n",
       "       total_square  rooms  floor    city settlement               district  \\\n",
       "3922          33.00    1.0   24.0  Москва        NaN    Нижегородский район   \n",
       "3981         109.90    3.0    2.0  Москва        NaN      Пресненский район   \n",
       "6865          57.90    2.0    5.0  Москва        NaN     Южнопортовый район   \n",
       "6959          20.00    1.0   24.0  Москва        NaN    Нижегородский район   \n",
       "7591          20.00    1.0   23.0  Москва        NaN    Нижегородский район   \n",
       "...             ...    ...    ...     ...        ...                    ...   \n",
       "98182        108.28    3.0   46.0  Москва        NaN     Марьина Роща район   \n",
       "98237         57.00    2.0   18.0  Москва        NaN         Отрадное район   \n",
       "98390         71.00    3.0   10.0  Москва        NaN       Крылатское район   \n",
       "98468         68.50    2.0    9.0  Москва        NaN  Десёновское поселение   \n",
       "98531         81.00    3.0   10.0  Москва        NaN   Внуковское поселение   \n",
       "\n",
       "                                                    area  \\\n",
       "3922                                                 NaN   \n",
       "3981                                                 NaN   \n",
       "6865                                                 NaN   \n",
       "6959                                                 NaN   \n",
       "7591                                                 NaN   \n",
       "...                                                  ...   \n",
       "98182                                                NaN   \n",
       "98237                                                NaN   \n",
       "98390                                                NaN   \n",
       "98468  Новые Ватутинки Центральный микрорайон жилой к...   \n",
       "98531                                                NaN   \n",
       "\n",
       "                                             description               source  \n",
       "3922   ЖК «Аквилон BESIDE» — масштабный проект от «ра...  Яндекс.Недвижимость  \n",
       "3981   КВАРТИРА В ХОРОШЕВО-МНЕВНИКАХ! ДОМ СДАН!\\n\\nТр...              Домклик  \n",
       "6865   Продаётся 2-комнатная квартира в строящемся до...                 ЦИАН  \n",
       "6959   ЖК «Аквилон BESIDE» — масштабный проект от «ра...  Яндекс.Недвижимость  \n",
       "7591   ЖК «Аквилон BESIDE» — масштабный проект от «ра...  Яндекс.Недвижимость  \n",
       "...                                                  ...                  ...  \n",
       "98182  Прямая продажа жилого комплекса премиум-класса...                 ЦИАН  \n",
       "98237  Прямая продажа от застройщика.Продаётся 2-к кв...  Яндекс.Недвижимость  \n",
       "98390  Внимание! Свободная продажа, выписка до сделки...                 ЦИАН  \n",
       "98468  Продаётся 2-комнатная квартира в строящемся до...                 ЦИАН  \n",
       "98531  Квартира расположена в Новой Москве, ЖК «Расск...  Яндекс.Недвижимость  \n",
       "\n",
       "[474 rows x 14 columns]"
      ]
     },
     "execution_count": 260,
     "metadata": {},
     "output_type": "execute_result"
    }
   ],
   "source": [
    "data_check.loc[data_check.duplicated(), :]"
   ]
  },
  {
   "cell_type": "code",
   "execution_count": 261,
   "id": "19e929fc",
   "metadata": {},
   "outputs": [
    {
     "name": "stdout",
     "output_type": "stream",
     "text": [
      "               product_name      price  postcode  \\\n",
      "0       3-комнатная, 137 м²   63000000  127473.0   \n",
      "1           Студия, 16,7 м²    3250000  108815.0   \n",
      "2        3-комнатная, 76 м²   16004680       NaN   \n",
      "3        1-комнатная, 24 м²    7841776       NaN   \n",
      "4       3-комнатная, 126 м²  120000000  121352.0   \n",
      "...                     ...        ...       ...   \n",
      "98343    2-комнатная, 42 м²   12183528  125212.0   \n",
      "98344  2-комнатная, 63,5 м²   34925000  129090.0   \n",
      "98345  1-комнатная, 34,4 м²   10000000  117534.0   \n",
      "98346    3-комнатная, 56 м²   15999000  109518.0   \n",
      "98347  2-комнатная, 55,1 м²   16750000  109316.0   \n",
      "\n",
      "                          address_name        lat        lon  total_square  \\\n",
      "0         2-й Щемиловский переулок, 5а  55.778894  37.608844         137.0   \n",
      "1                      Харлампиева, 46  55.551025  37.313054          16.7   \n",
      "2                    ЖК Прокшино, 8 к4  55.594802  37.431264          76.0   \n",
      "3                    ЖК Прокшино, 6 к2  55.594332  37.428099          24.0   \n",
      "4                     Давыдковская, 18  55.721097  37.464342         126.0   \n",
      "...                                ...        ...        ...           ...   \n",
      "98343    Кронштадтский бульвар, 9 к1/3  55.842935  37.487680          42.0   \n",
      "98344       Олимпийский проспект, вл10  55.777354  37.621747          63.5   \n",
      "98345        Чертановская улица, 53 к1  55.602124  37.591573          34.4   \n",
      "98346    1-й Грайвороновский проезд, 3  55.719431  37.724875          56.0   \n",
      "98347  Волгоградский проспект, 32/3 к6  55.721245  37.694176          55.1   \n",
      "\n",
      "       rooms  floor    city settlement                  district area  \\\n",
      "0        3.0    6.0  Москва        NaN            Тверской район  NaN   \n",
      "1        NaN    1.0  Москва        NaN  Филимонковское поселение  NaN   \n",
      "2        3.0    6.0  Москва        NaN       Сосенское поселение  NaN   \n",
      "3        1.0   10.0  Москва        NaN       Сосенское поселение  NaN   \n",
      "4        3.0   16.0  Москва        NaN      Фили-Давыдково район  NaN   \n",
      "...      ...    ...     ...        ...                       ...  ...   \n",
      "98343    2.0    8.0  Москва        NaN         Головинский район  NaN   \n",
      "98344    2.0    3.0  Москва        NaN           Мещанский район  NaN   \n",
      "98345    1.0    3.0  Москва        NaN     Чертаново Южное район  NaN   \n",
      "98346    3.0   11.0  Москва        NaN        Текстильщики район  NaN   \n",
      "98347    2.0   17.0  Москва        NaN        Южнопортовый район  NaN   \n",
      "\n",
      "                                             description               source  \n",
      "0      Просторная квартира свободной планировки с пан...                 ЦИАН  \n",
      "1                 ВНИМАНИЕ! ОЧЕНЬ ПРИВЛЕКАТЕЛЬНОЕ ПРЕ...              Домклик  \n",
      "2      Apт.1684018. 0,01% - гибкая ипотека! Воспользу...  Яндекс.Недвижимость  \n",
      "3      Продается однокомнатная квартира № 381 в новос...          Новострой-М  \n",
      "4      Шикарное предложение!\\nПродаётся трёхкомнатная...              Домклик  \n",
      "...                                                  ...                  ...  \n",
      "98343  Продаётся 2-комн.квартира площадью 42.00 кв.м ...  Яндекс.Недвижимость  \n",
      "98344  С 1 октября повышение цен на 5% на апартаменты...                 ЦИАН  \n",
      "98345  Продажа идеальной однокомнатной квартиры. Безу...              Домклик  \n",
      "98346  Новостройка! Евротрешка , две раздельная комна...              Домклик  \n",
      "98347  !Двушка в бизнес-классе с шикарной планировкой...                 ЦИАН  \n",
      "\n",
      "[98348 rows x 15 columns]\n"
     ]
    }
   ],
   "source": [
    "ind_del = list(data_check.loc[data_check.duplicated(), :].index)\n",
    "data.drop(index = ind_del, axis = 0, inplace = True)\n",
    "data.reset_index(drop = True, inplace = True)\n",
    "print(data)"
   ]
  },
  {
   "cell_type": "code",
   "execution_count": 262,
   "id": "e7bf6556",
   "metadata": {},
   "outputs": [
    {
     "name": "stdout",
     "output_type": "stream",
     "text": [
      "product_name                                      Студия, 16,7 м²\n",
      "price                                                     3250000\n",
      "postcode                                                 108815.0\n",
      "address_name                                      Харлампиева, 46\n",
      "lat                                                     55.551025\n",
      "lon                                                     37.313054\n",
      "total_square                                                 16.7\n",
      "rooms                                                         NaN\n",
      "floor                                                         1.0\n",
      "city                                                       Москва\n",
      "settlement                                                    NaN\n",
      "district                                 Филимонковское поселение\n",
      "area                                                          NaN\n",
      "description                ВНИМАНИЕ! ОЧЕНЬ ПРИВЛЕКАТЕЛЬНОЕ ПРЕ...\n",
      "source                                                    Домклик\n",
      "Name: 1, dtype: object\n"
     ]
    }
   ],
   "source": [
    "print(data.iloc[1])"
   ]
  },
  {
   "cell_type": "markdown",
   "id": "d046f3ba",
   "metadata": {},
   "source": [
    "Не могу оценить даже косвенное влияние признака Source на нашу переменную, поэтому отложим его до лучших времен. Признак description также пока что отложим, так как он требует основательной предобработки для использования в модели."
   ]
  },
  {
   "cell_type": "code",
   "execution_count": 263,
   "id": "e66ff96c",
   "metadata": {},
   "outputs": [],
   "source": [
    "data_new = data.drop(['source', 'description'], axis = 1)"
   ]
  },
  {
   "cell_type": "code",
   "execution_count": 264,
   "id": "07b3de60",
   "metadata": {},
   "outputs": [
    {
     "data": {
      "text/html": [
       "<div>\n",
       "<style scoped>\n",
       "    .dataframe tbody tr th:only-of-type {\n",
       "        vertical-align: middle;\n",
       "    }\n",
       "\n",
       "    .dataframe tbody tr th {\n",
       "        vertical-align: top;\n",
       "    }\n",
       "\n",
       "    .dataframe thead th {\n",
       "        text-align: right;\n",
       "    }\n",
       "</style>\n",
       "<table border=\"1\" class=\"dataframe\">\n",
       "  <thead>\n",
       "    <tr style=\"text-align: right;\">\n",
       "      <th></th>\n",
       "      <th>product_name</th>\n",
       "      <th>price</th>\n",
       "      <th>postcode</th>\n",
       "      <th>address_name</th>\n",
       "      <th>lat</th>\n",
       "      <th>lon</th>\n",
       "      <th>total_square</th>\n",
       "      <th>rooms</th>\n",
       "      <th>floor</th>\n",
       "      <th>city</th>\n",
       "      <th>settlement</th>\n",
       "      <th>district</th>\n",
       "      <th>area</th>\n",
       "    </tr>\n",
       "  </thead>\n",
       "  <tbody>\n",
       "    <tr>\n",
       "      <th>0</th>\n",
       "      <td>3-комнатная, 137 м²</td>\n",
       "      <td>63000000</td>\n",
       "      <td>127473.0</td>\n",
       "      <td>2-й Щемиловский переулок, 5а</td>\n",
       "      <td>55.778894</td>\n",
       "      <td>37.608844</td>\n",
       "      <td>137.0</td>\n",
       "      <td>3.0</td>\n",
       "      <td>6.0</td>\n",
       "      <td>Москва</td>\n",
       "      <td>NaN</td>\n",
       "      <td>Тверской район</td>\n",
       "      <td>NaN</td>\n",
       "    </tr>\n",
       "    <tr>\n",
       "      <th>1</th>\n",
       "      <td>Студия, 16,7 м²</td>\n",
       "      <td>3250000</td>\n",
       "      <td>108815.0</td>\n",
       "      <td>Харлампиева, 46</td>\n",
       "      <td>55.551025</td>\n",
       "      <td>37.313054</td>\n",
       "      <td>16.7</td>\n",
       "      <td>NaN</td>\n",
       "      <td>1.0</td>\n",
       "      <td>Москва</td>\n",
       "      <td>NaN</td>\n",
       "      <td>Филимонковское поселение</td>\n",
       "      <td>NaN</td>\n",
       "    </tr>\n",
       "    <tr>\n",
       "      <th>2</th>\n",
       "      <td>3-комнатная, 76 м²</td>\n",
       "      <td>16004680</td>\n",
       "      <td>NaN</td>\n",
       "      <td>ЖК Прокшино, 8 к4</td>\n",
       "      <td>55.594802</td>\n",
       "      <td>37.431264</td>\n",
       "      <td>76.0</td>\n",
       "      <td>3.0</td>\n",
       "      <td>6.0</td>\n",
       "      <td>Москва</td>\n",
       "      <td>NaN</td>\n",
       "      <td>Сосенское поселение</td>\n",
       "      <td>NaN</td>\n",
       "    </tr>\n",
       "    <tr>\n",
       "      <th>3</th>\n",
       "      <td>1-комнатная, 24 м²</td>\n",
       "      <td>7841776</td>\n",
       "      <td>NaN</td>\n",
       "      <td>ЖК Прокшино, 6 к2</td>\n",
       "      <td>55.594332</td>\n",
       "      <td>37.428099</td>\n",
       "      <td>24.0</td>\n",
       "      <td>1.0</td>\n",
       "      <td>10.0</td>\n",
       "      <td>Москва</td>\n",
       "      <td>NaN</td>\n",
       "      <td>Сосенское поселение</td>\n",
       "      <td>NaN</td>\n",
       "    </tr>\n",
       "    <tr>\n",
       "      <th>4</th>\n",
       "      <td>3-комнатная, 126 м²</td>\n",
       "      <td>120000000</td>\n",
       "      <td>121352.0</td>\n",
       "      <td>Давыдковская, 18</td>\n",
       "      <td>55.721097</td>\n",
       "      <td>37.464342</td>\n",
       "      <td>126.0</td>\n",
       "      <td>3.0</td>\n",
       "      <td>16.0</td>\n",
       "      <td>Москва</td>\n",
       "      <td>NaN</td>\n",
       "      <td>Фили-Давыдково район</td>\n",
       "      <td>NaN</td>\n",
       "    </tr>\n",
       "  </tbody>\n",
       "</table>\n",
       "</div>"
      ],
      "text/plain": [
       "          product_name      price  postcode                  address_name  \\\n",
       "0  3-комнатная, 137 м²   63000000  127473.0  2-й Щемиловский переулок, 5а   \n",
       "1      Студия, 16,7 м²    3250000  108815.0               Харлампиева, 46   \n",
       "2   3-комнатная, 76 м²   16004680       NaN             ЖК Прокшино, 8 к4   \n",
       "3   1-комнатная, 24 м²    7841776       NaN             ЖК Прокшино, 6 к2   \n",
       "4  3-комнатная, 126 м²  120000000  121352.0              Давыдковская, 18   \n",
       "\n",
       "         lat        lon  total_square  rooms  floor    city settlement  \\\n",
       "0  55.778894  37.608844         137.0    3.0    6.0  Москва        NaN   \n",
       "1  55.551025  37.313054          16.7    NaN    1.0  Москва        NaN   \n",
       "2  55.594802  37.431264          76.0    3.0    6.0  Москва        NaN   \n",
       "3  55.594332  37.428099          24.0    1.0   10.0  Москва        NaN   \n",
       "4  55.721097  37.464342         126.0    3.0   16.0  Москва        NaN   \n",
       "\n",
       "                   district area  \n",
       "0            Тверской район  NaN  \n",
       "1  Филимонковское поселение  NaN  \n",
       "2       Сосенское поселение  NaN  \n",
       "3       Сосенское поселение  NaN  \n",
       "4      Фили-Давыдково район  NaN  "
      ]
     },
     "execution_count": 264,
     "metadata": {},
     "output_type": "execute_result"
    }
   ],
   "source": [
    "data_new.head(5)"
   ]
  },
  {
   "cell_type": "markdown",
   "id": "208326a6",
   "metadata": {},
   "source": [
    "Снова уберем дубликаты."
   ]
  },
  {
   "cell_type": "code",
   "execution_count": 266,
   "id": "732d4b44",
   "metadata": {},
   "outputs": [
    {
     "name": "stdout",
     "output_type": "stream",
     "text": [
      "Число дубликатов в датасете равно  6104\n"
     ]
    }
   ],
   "source": [
    "data_check = data_new.drop(['price'], axis = 1)\n",
    "\n",
    "print('Число дубликатов в датасете равно ',len(data_check)-len(data_check.drop_duplicates()))"
   ]
  },
  {
   "cell_type": "code",
   "execution_count": 267,
   "id": "0765f136",
   "metadata": {},
   "outputs": [
    {
     "data": {
      "text/html": [
       "<div>\n",
       "<style scoped>\n",
       "    .dataframe tbody tr th:only-of-type {\n",
       "        vertical-align: middle;\n",
       "    }\n",
       "\n",
       "    .dataframe tbody tr th {\n",
       "        vertical-align: top;\n",
       "    }\n",
       "\n",
       "    .dataframe thead th {\n",
       "        text-align: right;\n",
       "    }\n",
       "</style>\n",
       "<table border=\"1\" class=\"dataframe\">\n",
       "  <thead>\n",
       "    <tr style=\"text-align: right;\">\n",
       "      <th></th>\n",
       "      <th>product_name</th>\n",
       "      <th>postcode</th>\n",
       "      <th>address_name</th>\n",
       "      <th>lat</th>\n",
       "      <th>lon</th>\n",
       "      <th>total_square</th>\n",
       "      <th>rooms</th>\n",
       "      <th>floor</th>\n",
       "      <th>city</th>\n",
       "      <th>settlement</th>\n",
       "      <th>district</th>\n",
       "      <th>area</th>\n",
       "    </tr>\n",
       "  </thead>\n",
       "  <tbody>\n",
       "    <tr>\n",
       "      <th>605</th>\n",
       "      <td>2-комнатная, 62 м²</td>\n",
       "      <td>127018.0</td>\n",
       "      <td>Складочная улица, 6 к8</td>\n",
       "      <td>55.801423</td>\n",
       "      <td>37.596985</td>\n",
       "      <td>62.0</td>\n",
       "      <td>2.0</td>\n",
       "      <td>5.0</td>\n",
       "      <td>Москва</td>\n",
       "      <td>NaN</td>\n",
       "      <td>Марьина Роща район</td>\n",
       "      <td>NaN</td>\n",
       "    </tr>\n",
       "    <tr>\n",
       "      <th>955</th>\n",
       "      <td>2-комнатная, 47,6 м²</td>\n",
       "      <td>125167.0</td>\n",
       "      <td>Ленинградский проспект, 37/3</td>\n",
       "      <td>55.793036</td>\n",
       "      <td>37.542115</td>\n",
       "      <td>47.6</td>\n",
       "      <td>2.0</td>\n",
       "      <td>37.0</td>\n",
       "      <td>Москва</td>\n",
       "      <td>NaN</td>\n",
       "      <td>Хорошёвский район</td>\n",
       "      <td>NaN</td>\n",
       "    </tr>\n",
       "    <tr>\n",
       "      <th>1583</th>\n",
       "      <td>3-комнатная, 142,6 м²</td>\n",
       "      <td>109028.0</td>\n",
       "      <td>Казарменный переулок, 3</td>\n",
       "      <td>55.757184</td>\n",
       "      <td>37.649684</td>\n",
       "      <td>142.6</td>\n",
       "      <td>3.0</td>\n",
       "      <td>8.0</td>\n",
       "      <td>Москва</td>\n",
       "      <td>NaN</td>\n",
       "      <td>Басманный район</td>\n",
       "      <td>NaN</td>\n",
       "    </tr>\n",
       "    <tr>\n",
       "      <th>1695</th>\n",
       "      <td>3-комнатная, 82 м²</td>\n",
       "      <td>141009.0</td>\n",
       "      <td>Олимпийский проспект, 12</td>\n",
       "      <td>55.917186</td>\n",
       "      <td>37.770422</td>\n",
       "      <td>82.0</td>\n",
       "      <td>3.0</td>\n",
       "      <td>17.0</td>\n",
       "      <td>Мытищи</td>\n",
       "      <td>NaN</td>\n",
       "      <td>NaN</td>\n",
       "      <td>NaN</td>\n",
       "    </tr>\n",
       "    <tr>\n",
       "      <th>1790</th>\n",
       "      <td>1-комнатная, 40 м²</td>\n",
       "      <td>125130.0</td>\n",
       "      <td>Старопетровский проезд, 8</td>\n",
       "      <td>55.822748</td>\n",
       "      <td>37.505632</td>\n",
       "      <td>40.0</td>\n",
       "      <td>1.0</td>\n",
       "      <td>4.0</td>\n",
       "      <td>Москва</td>\n",
       "      <td>NaN</td>\n",
       "      <td>Войковский район</td>\n",
       "      <td>NaN</td>\n",
       "    </tr>\n",
       "    <tr>\n",
       "      <th>...</th>\n",
       "      <td>...</td>\n",
       "      <td>...</td>\n",
       "      <td>...</td>\n",
       "      <td>...</td>\n",
       "      <td>...</td>\n",
       "      <td>...</td>\n",
       "      <td>...</td>\n",
       "      <td>...</td>\n",
       "      <td>...</td>\n",
       "      <td>...</td>\n",
       "      <td>...</td>\n",
       "      <td>...</td>\n",
       "    </tr>\n",
       "    <tr>\n",
       "      <th>98303</th>\n",
       "      <td>3-комнатная, 77 м²</td>\n",
       "      <td>121359.0</td>\n",
       "      <td>Бобруйская, 15/1</td>\n",
       "      <td>55.738107</td>\n",
       "      <td>37.397033</td>\n",
       "      <td>77.0</td>\n",
       "      <td>3.0</td>\n",
       "      <td>10.0</td>\n",
       "      <td>Москва</td>\n",
       "      <td>NaN</td>\n",
       "      <td>Кунцево район</td>\n",
       "      <td>NaN</td>\n",
       "    </tr>\n",
       "    <tr>\n",
       "      <th>98307</th>\n",
       "      <td>3-комнатная, 79,7 м²</td>\n",
       "      <td>121165.0</td>\n",
       "      <td>улица Студенческая, 44/28 / Киевская, 28</td>\n",
       "      <td>55.739216</td>\n",
       "      <td>37.537754</td>\n",
       "      <td>79.7</td>\n",
       "      <td>3.0</td>\n",
       "      <td>1.0</td>\n",
       "      <td>Москва</td>\n",
       "      <td>NaN</td>\n",
       "      <td>Дорогомилово район</td>\n",
       "      <td>NaN</td>\n",
       "    </tr>\n",
       "    <tr>\n",
       "      <th>98323</th>\n",
       "      <td>4-комнатная, 168 м²</td>\n",
       "      <td>109028.0</td>\n",
       "      <td>Казарменный переулок, 3</td>\n",
       "      <td>55.757184</td>\n",
       "      <td>37.649684</td>\n",
       "      <td>168.0</td>\n",
       "      <td>4.0</td>\n",
       "      <td>8.0</td>\n",
       "      <td>Москва</td>\n",
       "      <td>NaN</td>\n",
       "      <td>Басманный район</td>\n",
       "      <td>NaN</td>\n",
       "    </tr>\n",
       "    <tr>\n",
       "      <th>98326</th>\n",
       "      <td>2-комнатная, 52 м²</td>\n",
       "      <td>119607.0</td>\n",
       "      <td>Мичуринский проспект, 29 к3</td>\n",
       "      <td>55.693549</td>\n",
       "      <td>37.505523</td>\n",
       "      <td>52.0</td>\n",
       "      <td>2.0</td>\n",
       "      <td>9.0</td>\n",
       "      <td>Москва</td>\n",
       "      <td>NaN</td>\n",
       "      <td>Раменки район</td>\n",
       "      <td>NaN</td>\n",
       "    </tr>\n",
       "    <tr>\n",
       "      <th>98330</th>\n",
       "      <td>2-комнатная, 78,1 м²</td>\n",
       "      <td>119192.0</td>\n",
       "      <td>Мичуринский проспект, 56</td>\n",
       "      <td>55.695901</td>\n",
       "      <td>37.485901</td>\n",
       "      <td>78.1</td>\n",
       "      <td>2.0</td>\n",
       "      <td>40.0</td>\n",
       "      <td>Москва</td>\n",
       "      <td>NaN</td>\n",
       "      <td>Раменки район</td>\n",
       "      <td>NaN</td>\n",
       "    </tr>\n",
       "  </tbody>\n",
       "</table>\n",
       "<p>6104 rows × 12 columns</p>\n",
       "</div>"
      ],
      "text/plain": [
       "                product_name  postcode  \\\n",
       "605       2-комнатная, 62 м²  127018.0   \n",
       "955     2-комнатная, 47,6 м²  125167.0   \n",
       "1583   3-комнатная, 142,6 м²  109028.0   \n",
       "1695      3-комнатная, 82 м²  141009.0   \n",
       "1790      1-комнатная, 40 м²  125130.0   \n",
       "...                      ...       ...   \n",
       "98303     3-комнатная, 77 м²  121359.0   \n",
       "98307   3-комнатная, 79,7 м²  121165.0   \n",
       "98323    4-комнатная, 168 м²  109028.0   \n",
       "98326     2-комнатная, 52 м²  119607.0   \n",
       "98330   2-комнатная, 78,1 м²  119192.0   \n",
       "\n",
       "                                   address_name        lat        lon  \\\n",
       "605                      Складочная улица, 6 к8  55.801423  37.596985   \n",
       "955                Ленинградский проспект, 37/3  55.793036  37.542115   \n",
       "1583                    Казарменный переулок, 3  55.757184  37.649684   \n",
       "1695                   Олимпийский проспект, 12  55.917186  37.770422   \n",
       "1790                  Старопетровский проезд, 8  55.822748  37.505632   \n",
       "...                                         ...        ...        ...   \n",
       "98303                          Бобруйская, 15/1  55.738107  37.397033   \n",
       "98307  улица Студенческая, 44/28 / Киевская, 28  55.739216  37.537754   \n",
       "98323                   Казарменный переулок, 3  55.757184  37.649684   \n",
       "98326               Мичуринский проспект, 29 к3  55.693549  37.505523   \n",
       "98330                  Мичуринский проспект, 56  55.695901  37.485901   \n",
       "\n",
       "       total_square  rooms  floor    city settlement            district area  \n",
       "605            62.0    2.0    5.0  Москва        NaN  Марьина Роща район  NaN  \n",
       "955            47.6    2.0   37.0  Москва        NaN   Хорошёвский район  NaN  \n",
       "1583          142.6    3.0    8.0  Москва        NaN     Басманный район  NaN  \n",
       "1695           82.0    3.0   17.0  Мытищи        NaN                 NaN  NaN  \n",
       "1790           40.0    1.0    4.0  Москва        NaN    Войковский район  NaN  \n",
       "...             ...    ...    ...     ...        ...                 ...  ...  \n",
       "98303          77.0    3.0   10.0  Москва        NaN       Кунцево район  NaN  \n",
       "98307          79.7    3.0    1.0  Москва        NaN  Дорогомилово район  NaN  \n",
       "98323         168.0    4.0    8.0  Москва        NaN     Басманный район  NaN  \n",
       "98326          52.0    2.0    9.0  Москва        NaN       Раменки район  NaN  \n",
       "98330          78.1    2.0   40.0  Москва        NaN       Раменки район  NaN  \n",
       "\n",
       "[6104 rows x 12 columns]"
      ]
     },
     "execution_count": 267,
     "metadata": {},
     "output_type": "execute_result"
    }
   ],
   "source": [
    "data_check.loc[data_check.duplicated(), :]"
   ]
  },
  {
   "cell_type": "code",
   "execution_count": 268,
   "id": "18fd8609",
   "metadata": {},
   "outputs": [
    {
     "name": "stdout",
     "output_type": "stream",
     "text": [
      "               product_name      price  postcode  \\\n",
      "0       3-комнатная, 137 м²   63000000  127473.0   \n",
      "1           Студия, 16,7 м²    3250000  108815.0   \n",
      "2        3-комнатная, 76 м²   16004680       NaN   \n",
      "3        1-комнатная, 24 м²    7841776       NaN   \n",
      "4       3-комнатная, 126 м²  120000000  121352.0   \n",
      "...                     ...        ...       ...   \n",
      "92239    2-комнатная, 42 м²   12183528  125212.0   \n",
      "92240  2-комнатная, 63,5 м²   34925000  129090.0   \n",
      "92241  1-комнатная, 34,4 м²   10000000  117534.0   \n",
      "92242    3-комнатная, 56 м²   15999000  109518.0   \n",
      "92243  2-комнатная, 55,1 м²   16750000  109316.0   \n",
      "\n",
      "                          address_name        lat        lon  total_square  \\\n",
      "0         2-й Щемиловский переулок, 5а  55.778894  37.608844         137.0   \n",
      "1                      Харлампиева, 46  55.551025  37.313054          16.7   \n",
      "2                    ЖК Прокшино, 8 к4  55.594802  37.431264          76.0   \n",
      "3                    ЖК Прокшино, 6 к2  55.594332  37.428099          24.0   \n",
      "4                     Давыдковская, 18  55.721097  37.464342         126.0   \n",
      "...                                ...        ...        ...           ...   \n",
      "92239    Кронштадтский бульвар, 9 к1/3  55.842935  37.487680          42.0   \n",
      "92240       Олимпийский проспект, вл10  55.777354  37.621747          63.5   \n",
      "92241        Чертановская улица, 53 к1  55.602124  37.591573          34.4   \n",
      "92242    1-й Грайвороновский проезд, 3  55.719431  37.724875          56.0   \n",
      "92243  Волгоградский проспект, 32/3 к6  55.721245  37.694176          55.1   \n",
      "\n",
      "       rooms  floor    city settlement                  district area  \n",
      "0        3.0    6.0  Москва        NaN            Тверской район  NaN  \n",
      "1        NaN    1.0  Москва        NaN  Филимонковское поселение  NaN  \n",
      "2        3.0    6.0  Москва        NaN       Сосенское поселение  NaN  \n",
      "3        1.0   10.0  Москва        NaN       Сосенское поселение  NaN  \n",
      "4        3.0   16.0  Москва        NaN      Фили-Давыдково район  NaN  \n",
      "...      ...    ...     ...        ...                       ...  ...  \n",
      "92239    2.0    8.0  Москва        NaN         Головинский район  NaN  \n",
      "92240    2.0    3.0  Москва        NaN           Мещанский район  NaN  \n",
      "92241    1.0    3.0  Москва        NaN     Чертаново Южное район  NaN  \n",
      "92242    3.0   11.0  Москва        NaN        Текстильщики район  NaN  \n",
      "92243    2.0   17.0  Москва        NaN        Южнопортовый район  NaN  \n",
      "\n",
      "[92244 rows x 13 columns]\n"
     ]
    }
   ],
   "source": [
    "ind_del = list(data_check.loc[data_check.duplicated(), :].index)\n",
    "data_new.drop(index = ind_del, axis = 0, inplace = True)\n",
    "data_new.reset_index(drop = True, inplace = True)\n",
    "print(data_new)"
   ]
  },
  {
   "cell_type": "code",
   "execution_count": 269,
   "id": "3d921ce0",
   "metadata": {},
   "outputs": [
    {
     "data": {
      "text/plain": [
       "product_name    False\n",
       "price           False\n",
       "postcode         True\n",
       "address_name     True\n",
       "lat             False\n",
       "lon             False\n",
       "total_square    False\n",
       "rooms            True\n",
       "floor           False\n",
       "city             True\n",
       "settlement       True\n",
       "district         True\n",
       "area             True\n",
       "dtype: bool"
      ]
     },
     "execution_count": 269,
     "metadata": {},
     "output_type": "execute_result"
    }
   ],
   "source": [
    "data_new.isna().any()"
   ]
  },
  {
   "cell_type": "code",
   "execution_count": 270,
   "id": "47638a94",
   "metadata": {},
   "outputs": [
    {
     "name": "stdout",
     "output_type": "stream",
     "text": [
      "Числовые признаки\n",
      "              price       postcode           lat           lon  total_square  \\\n",
      "count  9.224400e+04   87537.000000  92244.000000  92244.000000  92244.000000   \n",
      "mean   2.480675e+07  124561.511669     55.742728     37.586886     65.898554   \n",
      "std    3.568570e+07   12003.710536      0.107548      0.170677     48.413503   \n",
      "min    1.900000e+06  101000.000000     55.468426     37.136489      8.000000   \n",
      "25%    1.050000e+07  115487.000000     55.672603     37.471706     40.400000   \n",
      "50%    1.510523e+07  123182.000000     55.745800     37.569733     56.400000   \n",
      "75%    2.493985e+07  140007.000000     55.818062     37.690065     75.600000   \n",
      "max    1.155219e+09  143989.000000     56.028824     38.122467   2070.000000   \n",
      "\n",
      "              rooms         floor  \n",
      "count  88528.000000  92244.000000  \n",
      "mean       2.196932      9.890963  \n",
      "std        1.034128      8.198033  \n",
      "min        1.000000      1.000000  \n",
      "25%        1.000000      4.000000  \n",
      "50%        2.000000      8.000000  \n",
      "75%        3.000000     14.000000  \n",
      "max       15.000000     66.000000  \n",
      "\n",
      "\n",
      "Категориальные признаки\n",
      "              product_name                  address_name    city  \\\n",
      "count                92244                         92243   85677   \n",
      "unique                5827                         22083      21   \n",
      "top     1-комнатная, 38 м²  улица Академика Королёва, 21  Москва   \n",
      "freq                   861                          1127   67898   \n",
      "\n",
      "             settlement             district         area  \n",
      "count              6567                69750        18451  \n",
      "unique               46                  130          269  \n",
      "top     пос. Коммунарка  Сосенское поселение  Самолёт м-н  \n",
      "freq                595                 4366          609  \n"
     ]
    }
   ],
   "source": [
    "print('Числовые признаки')\n",
    "print(data_new.describe())\n",
    "print()\n",
    "print()\n",
    "print('Категориальные признаки')\n",
    "print(data_new.describe(exclude=[np.number]))"
   ]
  },
  {
   "cell_type": "markdown",
   "id": "5cdf5d58",
   "metadata": {},
   "source": [
    "Оценим, где больше всего пропущенных значений и в каких соотношениях они пропущены:"
   ]
  },
  {
   "cell_type": "code",
   "execution_count": 272,
   "id": "0779108e",
   "metadata": {},
   "outputs": [
    {
     "data": {
      "image/png": "[encoded data removed]",
      "text/plain": [
       "<Figure size 2500x1000 with 3 Axes>"
      ]
     },
     "metadata": {},
     "output_type": "display_data"
    }
   ],
   "source": [
    "import missingno as msno\n",
    "msno.bar(data_new, log = True)\n",
    "plt.show()"
   ]
  },
  {
   "cell_type": "markdown",
   "id": "eb809b14",
   "metadata": {},
   "source": [
    "Похоже признаки city и settlement можно схлопнуть в один, что в принципе логично. Проверим, можем ли мы так сделать."
   ]
  },
  {
   "cell_type": "code",
   "execution_count": 273,
   "id": "f8c7eb2e",
   "metadata": {},
   "outputs": [
    {
     "name": "stdout",
     "output_type": "stream",
     "text": [
      "['Москва', nan, 'Балашиха', 'Люберцы', 'Красногорск', 'Химки', 'Королёв', 'Мытищи', 'Пушкино', 'Котельники', 'Одинцово', 'Щёлково', 'Дзержинский', 'Реутов', 'Ивантеевка', 'Московский', 'Лобня', 'Долгопрудный', 'Щербинка', 'Подольск', 'Видное', 'Лыткарино']\n"
     ]
    }
   ],
   "source": [
    "cit = data_new['city'].unique().tolist()\n",
    "print(cit)"
   ]
  },
  {
   "cell_type": "code",
   "execution_count": 274,
   "id": "0de02b3f",
   "metadata": {},
   "outputs": [
    {
     "name": "stdout",
     "output_type": "stream",
     "text": [
      "Город  Москва  и уникальные поселения\n",
      "[nan]\n",
      "------------------------\n",
      "Город  nan  и уникальные поселения\n",
      "[]\n",
      "------------------------\n",
      "Город  Балашиха  и уникальные поселения\n",
      "[nan]\n",
      "------------------------\n",
      "Город  Люберцы  и уникальные поселения\n",
      "[nan]\n",
      "------------------------\n",
      "Город  Красногорск  и уникальные поселения\n",
      "[nan]\n",
      "------------------------\n",
      "Город  Химки  и уникальные поселения\n",
      "[nan]\n",
      "------------------------\n",
      "Город  Королёв  и уникальные поселения\n",
      "[nan]\n",
      "------------------------\n",
      "Город  Мытищи  и уникальные поселения\n",
      "[nan]\n",
      "------------------------\n",
      "Город  Пушкино  и уникальные поселения\n",
      "[nan]\n",
      "------------------------\n",
      "Город  Котельники  и уникальные поселения\n",
      "[nan]\n",
      "------------------------\n",
      "Город  Одинцово  и уникальные поселения\n",
      "[nan]\n",
      "------------------------\n",
      "Город  Щёлково  и уникальные поселения\n",
      "[nan]\n",
      "------------------------\n",
      "Город  Дзержинский  и уникальные поселения\n",
      "[nan]\n",
      "------------------------\n",
      "Город  Реутов  и уникальные поселения\n",
      "[nan]\n",
      "------------------------\n",
      "Город  Ивантеевка  и уникальные поселения\n",
      "[nan]\n",
      "------------------------\n",
      "Город  Московский  и уникальные поселения\n",
      "[nan]\n",
      "------------------------\n",
      "Город  Лобня  и уникальные поселения\n",
      "[nan]\n",
      "------------------------\n",
      "Город  Долгопрудный  и уникальные поселения\n",
      "[nan]\n",
      "------------------------\n",
      "Город  Щербинка  и уникальные поселения\n",
      "[nan]\n",
      "------------------------\n",
      "Город  Подольск  и уникальные поселения\n",
      "[nan]\n",
      "------------------------\n",
      "Город  Видное  и уникальные поселения\n",
      "[nan]\n",
      "------------------------\n",
      "Город  Лыткарино  и уникальные поселения\n",
      "[nan]\n",
      "------------------------\n"
     ]
    }
   ],
   "source": [
    "for i in cit:\n",
    "    data_c = data_new.loc[data_new['city'] == i]  \n",
    "    print('Город ', i, ' и уникальные поселения')\n",
    "    print(data_c['settlement'].unique())\n",
    "    print(\"------------------------\")"
   ]
  },
  {
   "cell_type": "markdown",
   "id": "72056f04",
   "metadata": {},
   "source": [
    "Действительно можно, так и сделаем."
   ]
  },
  {
   "cell_type": "code",
   "execution_count": 276,
   "id": "4608e114",
   "metadata": {},
   "outputs": [
    {
     "name": "stdout",
     "output_type": "stream",
     "text": [
      "['Москва' 'д.\\xa0Мисайлово' 'Балашиха' 'пос.\\xa0ВНИИССОК' 'Люберцы'\n",
      " 'Красногорск' 'Химки' 'Королёв' 'Мытищи' 'рп.\\xa0Дрожжино'\n",
      " 'рп.\\xa0Октябрьский' 'с.\\xa0Немчиновка' 'Пушкино' 'Котельники' 'Одинцово'\n",
      " 'рп.\\xa0Новоивановское' 'Щёлково' 'пос.\\xa0Ильинское-Усово' 'Дзержинский'\n",
      " 'Реутов' 'рп.\\xa0Томилино' 'рп.\\xa0Боброво' 'с.\\xa0Домодедово'\n",
      " 'Ивантеевка' 'Московский' 'пос.\\xa0Мебельной фабрики' 'д.\\xa0Путилково'\n",
      " 'Лобня' 'Долгопрудный' 'пос.\\xa0Развилка' 'д.\\xa0Островцы'\n",
      " 'д.\\xa0Большие Жеребцы' 'Щербинка' 'пос.\\xa0Коммунарка' 'д.\\xa0Раздоры'\n",
      " 'д.\\xa0Мотяково' 'пос.\\xa0Нагорное' 'Подольск' 'пос.\\xa0Марьино'\n",
      " 'дп.\\xa0Красково' 'рп.\\xa0Лопатино' 'д.\\xa0Сосенки' 'пос.\\xa0Битца'\n",
      " 'рп.\\xa0Заречье' 'с.\\xa0Ромашково' 'Видное' 'д.\\xa0Жабкино'\n",
      " 'д.\\xa0Сапроново' 'пос.\\xa0Отрадное' 'дп.\\xa0Лесной Городок'\n",
      " 'д.\\xa0Мякинино' 'рп.\\xa0Нахабино' 'д.\\xa0Сабурово'\n",
      " 'с.\\xa0Николо-Урюпино' 'пос.\\xa0Мирный'\n",
      " 'пос.\\xa0подсобного хозяйства \"Воскресенское\"' 'с.\\xa0Молоково'\n",
      " 'д.\\xa0Глухово' 'д.\\xa0Пирогово' 'д.\\xa0Аристово' 'Лыткарино'\n",
      " 'д.\\xa0Подолино' 'д.\\xa0Солманово' 'рп.\\xa0Бутово' 'д.\\xa0Марусино'\n",
      " 'рп.\\xa0Малаховка' 'д.\\xa0Болтино']\n"
     ]
    }
   ],
   "source": [
    "data_new['settlement'].fillna('', inplace=True)\n",
    "data_new['city'].fillna('', inplace=True)\n",
    "data_new['locality'] = data_new['city']+ data_new['settlement']\n",
    "print(data_new['locality'].unique())"
   ]
  },
  {
   "cell_type": "markdown",
   "id": "314f0a10",
   "metadata": {},
   "source": [
    "Посмотрим, что там может дать product_name и где в rooms пропущены значения"
   ]
  },
  {
   "cell_type": "code",
   "execution_count": 278,
   "id": "875d6700",
   "metadata": {},
   "outputs": [
    {
     "name": "stdout",
     "output_type": "stream",
     "text": [
      "['3-комнатная' 'Студия' '1-комнатная' '2-комнатная' '4-комнатная'\n",
      " '5-комнатная' 'Квартира' '6-комнатная' '10-комнатная' '7-комнатная'\n",
      " '11-комнатная' '8-комнатная' '9-комнатная' '12-комнатная' '14-комнатная'\n",
      " '15-комнатная' '13-комнатная']\n"
     ]
    }
   ],
   "source": [
    "data_new[['apartment_type', 'square_meters']] = data_new.product_name.str.split(\",\", 1, expand = True)\n",
    "print(data_new['apartment_type'].unique())"
   ]
  },
  {
   "cell_type": "code",
   "execution_count": 279,
   "id": "6ca1ada3",
   "metadata": {},
   "outputs": [
    {
     "name": "stdout",
     "output_type": "stream",
     "text": [
      "[nan  1.]\n"
     ]
    }
   ],
   "source": [
    "data_stud = data_new.loc[data_new['apartment_type'] == 'Студия'] \n",
    "print(data_stud['rooms'].unique())"
   ]
  },
  {
   "cell_type": "code",
   "execution_count": 280,
   "id": "5653e599",
   "metadata": {},
   "outputs": [
    {
     "name": "stdout",
     "output_type": "stream",
     "text": [
      "[nan]\n"
     ]
    }
   ],
   "source": [
    "data_apart = data_new.loc[data_new['apartment_type'] == 'Квартира'] \n",
    "print(data_apart['rooms'].unique())"
   ]
  },
  {
   "cell_type": "code",
   "execution_count": 281,
   "id": "1841ce3d",
   "metadata": {},
   "outputs": [
    {
     "name": "stdout",
     "output_type": "stream",
     "text": [
      "              price       postcode         lat         lon  total_square  \\\n",
      "count  6.470000e+02     643.000000  647.000000  647.000000    647.000000   \n",
      "mean   4.660089e+07  121364.618974   55.760918   37.577464     84.165781   \n",
      "std    7.474956e+07    7107.704006    0.057758    0.084824    119.195024   \n",
      "min    3.450000e+06  101000.000000   55.549916   37.258162     12.500000   \n",
      "25%    1.430000e+07  117370.000000   55.721730   37.524554     30.000000   \n",
      "50%    2.010620e+07  121374.000000   55.758874   37.581175     38.000000   \n",
      "75%    4.240000e+07  127163.000000   55.806111   37.636345     85.000000   \n",
      "max    7.861048e+08  143962.000000   55.946070   37.939348   1157.100000   \n",
      "\n",
      "       rooms       floor  \n",
      "count    0.0  647.000000  \n",
      "mean     NaN   13.420402  \n",
      "std      NaN   11.682437  \n",
      "min      NaN    1.000000  \n",
      "25%      NaN    4.000000  \n",
      "50%      NaN    9.000000  \n",
      "75%      NaN   20.000000  \n",
      "max      NaN   52.000000  \n",
      "              price       postcode          lat          lon  total_square  \\\n",
      "count  5.671000e+03    5145.000000  5671.000000  5671.000000   5671.000000   \n",
      "mean   8.114626e+06  126233.523226    55.742760    37.607831     25.755124   \n",
      "std    7.616655e+06   14078.205441     0.120295     0.193299     11.153746   \n",
      "min    1.900000e+06  101000.000000    55.470985    37.170634      8.000000   \n",
      "25%    5.152500e+06  109383.000000    55.655508    37.446587     21.000000   \n",
      "50%    7.132041e+06  125504.000000    55.743093    37.624353     25.000000   \n",
      "75%    8.886786e+06  141420.000000    55.838978    37.737600     28.100000   \n",
      "max    2.150000e+08  143989.000000    56.013006    38.084336    239.000000   \n",
      "\n",
      "        rooms        floor  \n",
      "count  2602.0  5671.000000  \n",
      "mean      1.0     9.892083  \n",
      "std       0.0     8.768932  \n",
      "min       1.0     1.000000  \n",
      "25%       1.0     2.500000  \n",
      "50%       1.0     8.000000  \n",
      "75%       1.0    15.000000  \n",
      "max       1.0    52.000000  \n"
     ]
    }
   ],
   "source": [
    "print(data_apart.describe())\n",
    "print(data_stud.describe())"
   ]
  },
  {
   "cell_type": "markdown",
   "id": "da29e7ed",
   "metadata": {},
   "source": [
    "Испольуем далее полученный признак apartment_type, так как на сайтах фильтр 'Студия' идет наравне с количеством комнат"
   ]
  },
  {
   "cell_type": "markdown",
   "id": "9f2ba2a2",
   "metadata": {},
   "source": [
    "Заполним пропуски:"
   ]
  },
  {
   "cell_type": "code",
   "execution_count": 282,
   "id": "12830a2f",
   "metadata": {},
   "outputs": [],
   "source": [
    "for col in data_new.columns:\n",
    "    mod = data_new[col].mode()\n",
    "    data_new[col] = data_new[col].fillna(value = mod[0])"
   ]
  },
  {
   "cell_type": "code",
   "execution_count": 283,
   "id": "48674d2f",
   "metadata": {},
   "outputs": [
    {
     "data": {
      "text/plain": [
       "product_name      False\n",
       "price             False\n",
       "postcode          False\n",
       "address_name      False\n",
       "lat               False\n",
       "lon               False\n",
       "total_square      False\n",
       "rooms             False\n",
       "floor             False\n",
       "city              False\n",
       "settlement        False\n",
       "district          False\n",
       "area              False\n",
       "locality          False\n",
       "apartment_type    False\n",
       "square_meters     False\n",
       "dtype: bool"
      ]
     },
     "execution_count": 283,
     "metadata": {},
     "output_type": "execute_result"
    }
   ],
   "source": [
    "data_new.isna().any()"
   ]
  },
  {
   "cell_type": "code",
   "execution_count": 233,
   "id": "ab023681",
   "metadata": {},
   "outputs": [
    {
     "data": {
      "image/png": "[encoded data removed]",
      "text/plain": [
       "<Figure size 700x700 with 2 Axes>"
      ]
     },
     "metadata": {},
     "output_type": "display_data"
    }
   ],
   "source": [
    "corr_matrix = data_new[['price','lat', 'lon', 'total_square', 'rooms', 'floor']].corr()\n",
    "plt.figure(figsize=(7, 7), facecolor='w', edgecolor='k')\n",
    "sns.set(font_scale=1.5)\n",
    "sns.heatmap(corr_matrix,cmap='coolwarm',\n",
    "            center = 0, \n",
    "            annot=True,\n",
    "            fmt='.1g')\n",
    "plt.show()"
   ]
  },
  {
   "cell_type": "markdown",
   "id": "be64438e",
   "metadata": {},
   "source": [
    "Из тепловой карты видно, что сильнее всего из чиловых признаков с целевой переменной коррелирует признаки total_square и rooms"
   ]
  },
  {
   "cell_type": "markdown",
   "id": "13805a61",
   "metadata": {},
   "source": [
    "Построим модель только на числовых признаках (вдруг там уже будет супер качество)."
   ]
  },
  {
   "cell_type": "code",
   "execution_count": 285,
   "id": "e681c742",
   "metadata": {},
   "outputs": [],
   "source": [
    "data_new_number = data_new[['lat', 'lon', 'total_square', 'rooms', 'floor']]\n",
    "ans_data_new_number = data_new['price']\n",
    "X_train, X_test, y_train, y_test = train_test_split(data_new_number, ans_data_new_number, test_size=0.3)"
   ]
  },
  {
   "cell_type": "code",
   "execution_count": 286,
   "id": "a18f4ff7",
   "metadata": {},
   "outputs": [
    {
     "name": "stdout",
     "output_type": "stream",
     "text": [
      "Test metrics:\n",
      "R2 score:  0.7298376584416769\n",
      "MSE:  370533281400267.8\n"
     ]
    }
   ],
   "source": [
    "from sklearn.linear_model import LinearRegression\n",
    "from sklearn.metrics import r2_score, mean_squared_error as MSE\n",
    "\n",
    "lr_reg = LinearRegression()\n",
    "lr_reg.fit(X_train, y_train)\n",
    "pred = lr_reg.predict(X_test)\n",
    "print(\"Test metrics:\")\n",
    "print(\"R2 score: \", r2_score(y_test, pred))\n",
    "print(\"MSE: \", MSE(y_test, pred))"
   ]
  },
  {
   "cell_type": "markdown",
   "id": "d8689150",
   "metadata": {},
   "source": [
    "Неплохо, но давайте стандартизируем фичи"
   ]
  },
  {
   "cell_type": "code",
   "execution_count": 287,
   "id": "5cf02d29",
   "metadata": {},
   "outputs": [
    {
     "name": "stdout",
     "output_type": "stream",
     "text": [
      "Test metrics:\n",
      "R2 score:  0.7298376584416768\n",
      "MSE:  370533281400267.94\n"
     ]
    }
   ],
   "source": [
    "from sklearn.preprocessing import StandardScaler\n",
    "\n",
    "scal = StandardScaler()\n",
    "\n",
    "scal.fit(X_train)\n",
    "X_train_tr = pd.DataFrame(scal.transform(X_train))\n",
    "X_test_tr = pd.DataFrame(scal.transform(X_test))\n",
    "\n",
    "lr_reg_tr = LinearRegression()\n",
    "lr_reg_tr.fit(X_train_tr, y_train)\n",
    "pred_tr = lr_reg_tr.predict(X_test_tr)\n",
    "print(\"Test metrics:\")\n",
    "print(\"R2 score: \", r2_score(y_test, pred_tr))\n",
    "print(\"MSE: \",MSE(y_test, pred_tr))"
   ]
  },
  {
   "cell_type": "markdown",
   "id": "b37bda86",
   "metadata": {},
   "source": [
    "Не особо помогло. Попробуем теперь Лассо-регрессию, чтобы посмотреть, можем мы сможем избавиться от лишних признаков."
   ]
  },
  {
   "cell_type": "code",
   "execution_count": 289,
   "id": "0d56505d",
   "metadata": {},
   "outputs": [
    {
     "name": "stdout",
     "output_type": "stream",
     "text": [
      "Test metrics:\n",
      "R2 score:  0.7298376543838303\n",
      "MSE:  370533286965688.94\n",
      "[   68335.0370194   -459366.22575613 32777581.58248551 -4322567.2203006\n",
      "   106322.98855408]\n"
     ]
    }
   ],
   "source": [
    "from sklearn.linear_model import Lasso\n",
    "\n",
    "lr_reg_l1 = Lasso()\n",
    "\n",
    "lr_reg_l1.fit(X_train_tr, y_train)\n",
    "\n",
    "pred_l1 = lr_reg_l1.predict(X_test_tr)\n",
    "\n",
    "print(\"Test metrics:\")\n",
    "print(\"R2 score: \", r2_score(y_test, pred_l1))\n",
    "print(\"MSE: \",MSE(y_test, pred_l1))\n",
    "\n",
    "print(lr_reg_l1.coef_)"
   ]
  },
  {
   "cell_type": "markdown",
   "id": "e4733caf",
   "metadata": {},
   "source": [
    "Как-то не очень получилось. Тогда займемся подбором гиперпараметров."
   ]
  },
  {
   "cell_type": "code",
   "execution_count": 291,
   "id": "e5167eb7",
   "metadata": {},
   "outputs": [
    {
     "name": "stdout",
     "output_type": "stream",
     "text": [
      "{'alpha': 50000}\n"
     ]
    }
   ],
   "source": [
    "from sklearn.model_selection import GridSearchCV\n",
    "\n",
    "parameters = {'alpha':[0.01, 0.1, 1, 10, 100, 1000, 10000, 50000]}\n",
    "Las = Lasso()\n",
    "Las_grid = GridSearchCV(Las, param_grid = parameters, cv = 10)\n",
    "Las_grid.fit(X_train_tr, y_train).best_params_\n",
    "print(Las_grid.best_params_)"
   ]
  },
  {
   "cell_type": "code",
   "execution_count": 293,
   "id": "c7819cc5",
   "metadata": {},
   "outputs": [
    {
     "name": "stdout",
     "output_type": "stream",
     "text": [
      "Test metrics:\n",
      "R2 score:  0.7296192415329077\n",
      "MSE:  370832844742267.2\n",
      "[ 2.16188792e+04 -4.08712829e+05  3.26134487e+07 -4.15262888e+06\n",
      "  6.96543553e+04]\n"
     ]
    }
   ],
   "source": [
    "lr_reg_l1 = Lasso(alpha = 50000)\n",
    "\n",
    "lr_reg_l1.fit(X_train_tr, y_train)\n",
    "\n",
    "pred_l1 = lr_reg_l1.predict(X_test_tr)\n",
    "print(\"Test metrics:\")\n",
    "print(\"R2 score: \", r2_score(y_test, pred_l1))\n",
    "print(\"MSE: \",MSE(y_test, pred_l1))\n",
    "print(lr_reg_l1.coef_)"
   ]
  },
  {
   "cell_type": "markdown",
   "id": "d772b289",
   "metadata": {},
   "source": [
    "Судя по всему, эти параметры важны, поэтому оставим их и начнем добавлять категориальные фичи в нашу модель."
   ]
  },
  {
   "cell_type": "code",
   "execution_count": 295,
   "id": "ccd60078",
   "metadata": {},
   "outputs": [],
   "source": [
    "data_new_cat = data_new[['lat', 'lon', 'total_square', 'rooms', 'floor','apartment_type', 'district', 'locality']]\n",
    "ans_data_new_cat = data_new['price']\n",
    "X_train_cat, X_test_cat, y_train, y_test = train_test_split(data_new_cat, ans_data_new_cat, test_size=0.33)"
   ]
  },
  {
   "cell_type": "code",
   "execution_count": 296,
   "id": "9efe1165",
   "metadata": {},
   "outputs": [
    {
     "data": {
      "text/html": [
       "<div>\n",
       "<style scoped>\n",
       "    .dataframe tbody tr th:only-of-type {\n",
       "        vertical-align: middle;\n",
       "    }\n",
       "\n",
       "    .dataframe tbody tr th {\n",
       "        vertical-align: top;\n",
       "    }\n",
       "\n",
       "    .dataframe thead th {\n",
       "        text-align: right;\n",
       "    }\n",
       "</style>\n",
       "<table border=\"1\" class=\"dataframe\">\n",
       "  <thead>\n",
       "    <tr style=\"text-align: right;\">\n",
       "      <th></th>\n",
       "      <th>apartment_type</th>\n",
       "      <th>district</th>\n",
       "      <th>locality</th>\n",
       "    </tr>\n",
       "  </thead>\n",
       "  <tbody>\n",
       "    <tr>\n",
       "      <th>count</th>\n",
       "      <td>61803</td>\n",
       "      <td>61803</td>\n",
       "      <td>61803</td>\n",
       "    </tr>\n",
       "    <tr>\n",
       "      <th>unique</th>\n",
       "      <td>16</td>\n",
       "      <td>130</td>\n",
       "      <td>67</td>\n",
       "    </tr>\n",
       "    <tr>\n",
       "      <th>top</th>\n",
       "      <td>2-комнатная</td>\n",
       "      <td>Сосенское поселение</td>\n",
       "      <td>Москва</td>\n",
       "    </tr>\n",
       "    <tr>\n",
       "      <th>freq</th>\n",
       "      <td>21610</td>\n",
       "      <td>18007</td>\n",
       "      <td>45497</td>\n",
       "    </tr>\n",
       "  </tbody>\n",
       "</table>\n",
       "</div>"
      ],
      "text/plain": [
       "       apartment_type             district locality\n",
       "count           61803                61803    61803\n",
       "unique             16                  130       67\n",
       "top       2-комнатная  Сосенское поселение   Москва\n",
       "freq            21610                18007    45497"
      ]
     },
     "execution_count": 296,
     "metadata": {},
     "output_type": "execute_result"
    }
   ],
   "source": [
    "X_train_cat.describe(include = 'object')"
   ]
  },
  {
   "cell_type": "code",
   "execution_count": 297,
   "id": "01e4a7e5",
   "metadata": {},
   "outputs": [
    {
     "data": {
      "text/html": [
       "<div>\n",
       "<style scoped>\n",
       "    .dataframe tbody tr th:only-of-type {\n",
       "        vertical-align: middle;\n",
       "    }\n",
       "\n",
       "    .dataframe tbody tr th {\n",
       "        vertical-align: top;\n",
       "    }\n",
       "\n",
       "    .dataframe thead th {\n",
       "        text-align: right;\n",
       "    }\n",
       "</style>\n",
       "<table border=\"1\" class=\"dataframe\">\n",
       "  <thead>\n",
       "    <tr style=\"text-align: right;\">\n",
       "      <th></th>\n",
       "      <th>apartment_type</th>\n",
       "      <th>district</th>\n",
       "      <th>locality</th>\n",
       "    </tr>\n",
       "  </thead>\n",
       "  <tbody>\n",
       "    <tr>\n",
       "      <th>count</th>\n",
       "      <td>30441</td>\n",
       "      <td>30441</td>\n",
       "      <td>30441</td>\n",
       "    </tr>\n",
       "    <tr>\n",
       "      <th>unique</th>\n",
       "      <td>13</td>\n",
       "      <td>129</td>\n",
       "      <td>67</td>\n",
       "    </tr>\n",
       "    <tr>\n",
       "      <th>top</th>\n",
       "      <td>2-комнатная</td>\n",
       "      <td>Сосенское поселение</td>\n",
       "      <td>Москва</td>\n",
       "    </tr>\n",
       "    <tr>\n",
       "      <th>freq</th>\n",
       "      <td>10572</td>\n",
       "      <td>8853</td>\n",
       "      <td>22401</td>\n",
       "    </tr>\n",
       "  </tbody>\n",
       "</table>\n",
       "</div>"
      ],
      "text/plain": [
       "       apartment_type             district locality\n",
       "count           30441                30441    30441\n",
       "unique             13                  129       67\n",
       "top       2-комнатная  Сосенское поселение   Москва\n",
       "freq            10572                 8853    22401"
      ]
     },
     "execution_count": 297,
     "metadata": {},
     "output_type": "execute_result"
    }
   ],
   "source": [
    "X_test_cat.describe(include = 'object')"
   ]
  },
  {
   "cell_type": "code",
   "execution_count": 298,
   "id": "5a8b66e1",
   "metadata": {},
   "outputs": [
    {
     "data": {
      "image/png": "[encoded data removed]",
      "text/plain": [
       "<Figure size 640x480 with 1 Axes>"
      ]
     },
     "metadata": {},
     "output_type": "display_data"
    }
   ],
   "source": [
    "sns.countplot(data = data_new_cat, x = \"apartment_type\")\n",
    "plt.xticks(rotation=90)\n",
    "plt.show()"
   ]
  },
  {
   "cell_type": "code",
   "execution_count": 302,
   "id": "e61b86b2",
   "metadata": {},
   "outputs": [],
   "source": [
    "data_new_cat = data_new[['lat', 'lon', 'total_square', 'rooms', 'floor','apartment_type', 'district', 'locality', 'city']]\n",
    "ans_data_new_cat = data_new['price']\n",
    "conditions = [(data_new_cat['city'] == 'Москва'),\n",
    "              (data_new_cat['city'] != 'Москва')]\n",
    "\n",
    "values = [1, 0]\n",
    "data_new_cat['Moscow'] = np.select(conditions, values)\n",
    "\n",
    "\n",
    "data_new_cat_dummies = pd.get_dummies(data_new_cat, drop_first=True)\n",
    "\n",
    "scal = StandardScaler()\n",
    "\n",
    "scal.fit(data_new_cat_dummies)\n",
    "\n",
    "data_new_cat_dummies_scaled = pd.DataFrame(scal.transform(data_new_cat_dummies), columns = data_new_cat_dummies.columns)\n",
    "X_train_tr_cat, X_test_tr_cat, y_train, y_test = train_test_split(data_new_cat_dummies_scaled, ans_data_new_cat, test_size=0.3)"
   ]
  },
  {
   "cell_type": "code",
   "execution_count": 314,
   "id": "e5a66426",
   "metadata": {},
   "outputs": [
    {
     "name": "stdout",
     "output_type": "stream",
     "text": [
      "{'alpha': 0.0001}\n"
     ]
    }
   ],
   "source": [
    "from sklearn.linear_model import Ridge\n",
    "import warnings\n",
    "warnings.filterwarnings(\"ignore\")\n",
    "\n",
    "rid_reg = Ridge()\n",
    "parameters = {'alpha':[0.0001, 0.001, 0.01, 0.1, 1, 10, 100, 1000, 10000]}\n",
    "rid_reg_grid = GridSearchCV(rid_reg, param_grid = parameters, scoring = r2_score, cv = 10)\n",
    "rid_reg_grid.fit(X_train_tr_cat, y_train).best_params_\n",
    "print(rid_reg_grid.best_params_)"
   ]
  },
  {
   "cell_type": "code",
   "execution_count": 313,
   "id": "a9c2dec4",
   "metadata": {},
   "outputs": [
    {
     "name": "stdout",
     "output_type": "stream",
     "text": [
      "Test metrics:\n",
      "R2 score:  0.7982480772409575\n",
      "MSE:  222868705549038.62\n"
     ]
    }
   ],
   "source": [
    "lr_reg_l2 = Ridge(alpha = 0.0001)\n",
    "\n",
    "lr_reg_l2.fit(X_train_tr_cat, y_train)\n",
    "\n",
    "pred_l2 = lr_reg_l2.predict(X_test_tr_cat)\n",
    "\n",
    "print(\"Test metrics:\")\n",
    "print(\"R2 score: \", r2_score(y_test, pred_l2))\n",
    "print(\"MSE: \",MSE(y_test, pred_l2))"
   ]
  },
  {
   "cell_type": "markdown",
   "id": "da3fcafa",
   "metadata": {},
   "source": [
    "Попробуем включить микрорайон в признаки"
   ]
  },
  {
   "cell_type": "code",
   "execution_count": 306,
   "id": "e75b551e",
   "metadata": {},
   "outputs": [],
   "source": [
    "data_all = data_new[['lat', 'lon', 'total_square', 'rooms', 'floor','city', 'settlement', 'district', 'area']]\n",
    "ans_data_all = data_new['price']"
   ]
  },
  {
   "cell_type": "code",
   "execution_count": 307,
   "id": "488a736f",
   "metadata": {},
   "outputs": [
    {
     "name": "stdout",
     "output_type": "stream",
     "text": [
      "{'alpha': 0.0001}\n"
     ]
    }
   ],
   "source": [
    "conditions = [(data_all['city'] == 'Москва'),\n",
    "              (data_all['city'] != 'Москва')]\n",
    "\n",
    "values = [1, 0]\n",
    "data_all['Moscow'] = np.select(conditions, values)\n",
    "\n",
    "data_all_fin = pd.get_dummies(data_all, drop_first=True)\n",
    "X_train_all, X_test_all, y_train_all, y_test_all = train_test_split(data_all_fin, ans_data_all, test_size=0.3)\n",
    "\n",
    "scal = StandardScaler()\n",
    "\n",
    "scal.fit(X_train_all)\n",
    "X_train_tr_all = pd.DataFrame(scal.transform(X_train_all), columns = X_train_all.columns)\n",
    "X_test_tr_all = pd.DataFrame(scal.transform(X_test_all), columns = X_test_all.columns)\n",
    "\n",
    "rid_reg = Ridge()\n",
    "parameters = {'alpha':[0.0001, 0.001, 0.01, 0.1, 1, 10, 100, 1000, 10000]}\n",
    "rid_reg_grid_all = GridSearchCV(rid_reg, param_grid = parameters, scoring = r2_score, cv = 10)\n",
    "rid_reg_grid_all.fit(X_train_tr_all, y_train_all).best_params_\n",
    "print(rid_reg_grid_all.best_params_)"
   ]
  },
  {
   "cell_type": "code",
   "execution_count": 308,
   "id": "09e484b7",
   "metadata": {},
   "outputs": [
    {
     "name": "stdout",
     "output_type": "stream",
     "text": [
      "Test metrics:\n",
      "R2 score:  -0.9891203344100716\n",
      "MSE:  2197315733345962.8\n",
      "\n",
      "Train metrics:\n",
      "R2 score:  -0.7887201900936602\n",
      "MSE:  2407199127822710.0\n"
     ]
    }
   ],
   "source": [
    "lr_reg_l2_all = Ridge(alpha = 0.0001)\n",
    "\n",
    "lr_reg_l2_all.fit(X_train_tr_all, y_train_all)\n",
    "\n",
    "pred_l2 = lr_reg_l2_all.predict(X_test_tr_all)\n",
    "\n",
    "print(\"Test metrics:\")\n",
    "print(\"R2 score: \", r2_score(y_test, pred_l2))\n",
    "print(\"MSE: \",MSE(y_test, pred_l2))\n",
    "print()\n",
    "print(\"Train metrics:\")\n",
    "print(\"R2 score: \", r2_score(y_train, lr_reg_l2_all.predict(X_train_tr_all)))\n",
    "print(\"MSE: \",MSE(y_train, lr_reg_l2_all.predict(X_train_tr_all)))"
   ]
  },
  {
   "cell_type": "markdown",
   "id": "dc622f82",
   "metadata": {},
   "source": [
    "Коэффициент детерминации стал приближаться к -1, видимо с нашей моделью что-то не так:)"
   ]
  },
  {
   "cell_type": "markdown",
   "id": "c009c8a3",
   "metadata": {},
   "source": [
    "Значит все-таки имеет смысл либо переработать признак area в более полезный, либо исключить его из датасета, как мы и сделали выше. Воспользуемся нашей лучшей моделью."
   ]
  },
  {
   "cell_type": "code",
   "execution_count": 309,
   "id": "cf00be0d",
   "metadata": {},
   "outputs": [
    {
     "name": "stdout",
     "output_type": "stream",
     "text": [
      "Test metrics:\n",
      "R2 score:  0.7982480772409575\n",
      "MSE:  222868705549038.62\n"
     ]
    }
   ],
   "source": [
    "pred_l2 = lr_reg_l2.predict(X_test_tr_cat)\n",
    "\n",
    "print(\"Test metrics:\")\n",
    "print(\"R2 score: \", r2_score(y_test, pred_l2))\n",
    "print(\"MSE: \",MSE(y_test, pred_l2))"
   ]
  },
  {
   "cell_type": "markdown",
   "id": "73b7909c",
   "metadata": {},
   "source": [
    "Далее пропишем кастомную метрику для заказчика:"
   ]
  },
  {
   "cell_type": "code",
   "execution_count": 310,
   "id": "9ca80d82",
   "metadata": {},
   "outputs": [
    {
     "data": {
      "text/plain": [
       "0.619245501192455"
      ]
     },
     "execution_count": 310,
     "metadata": {},
     "output_type": "execute_result"
    }
   ],
   "source": [
    "def business_metrics(y_true, y_pred):\n",
    "    kol_all = len(y_true)\n",
    "    y_true1 = np.array(y_true)\n",
    "    y_pred1 = np.array(y_pred)\n",
    "    kol = 0\n",
    "    for i in range(0, kol_all):\n",
    "        dev = abs(y_true1[i] - y_pred1[i])\n",
    "        per = dev / y_true1[i]\n",
    "        if per > 0.3:\n",
    "            kol += 1\n",
    "    return (1 - kol/kol_all)\n",
    "business_metrics(y_test, pred_l2)"
   ]
  },
  {
   "cell_type": "markdown",
   "id": "84001d48",
   "metadata": {},
   "source": [
    "Судя по бизнесовой метрике, мы можем интепретироват результаты для заказчика следующим образом - предсказания нашей модели в 62% случаях отличаются от реальных цен не более, чем на 30%. Для начала неплохо, но думаю, что можно улучшить этот показатель в дальнейшем. Например, использовать фичу description, поискав там словосочетания \"вторичное жилье\", \"первичное жилье\", \"новостройка\" и т.д., так как подобные признаки и фильтры есть на самих сайтах по типу ЦИАНа и др."
   ]
  },
  {
   "cell_type": "code",
   "execution_count": null,
   "id": "0b4749f5",
   "metadata": {},
   "outputs": [],
   "source": []
  }
 ],
 "metadata": {
  "kernelspec": {
   "display_name": "Python 3 (ipykernel)",
   "language": "python",
   "name": "python3"
  },
  "language_info": {
   "codemirror_mode": {
    "name": "ipython",
    "version": 3
   },
   "file_extension": ".py",
   "mimetype": "text/x-python",
   "name": "python",
   "nbconvert_exporter": "python",
   "pygments_lexer": "ipython3",
   "version": "3.9.13"
  }
 },
 "nbformat": 4,
 "nbformat_minor": 5
}
